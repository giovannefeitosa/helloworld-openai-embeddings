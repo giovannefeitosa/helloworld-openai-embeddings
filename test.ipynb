{
 "cells": [
  {
   "cell_type": "code",
   "execution_count": 20,
   "metadata": {},
   "outputs": [
    {
     "data": {
      "text/plain": [
       "['a', 'b , c']"
      ]
     },
     "execution_count": 20,
     "metadata": {},
     "output_type": "execute_result"
    }
   ],
   "source": [
    "a = \" a ,  b , c\"\n",
    "[x.strip() for x in a.split(',', 1)]"
   ]
  },
  {
   "cell_type": "code",
   "execution_count": 23,
   "metadata": {},
   "outputs": [
    {
     "data": {
      "text/plain": [
       "[['(Q) question?', 'answer.'], ['(Q) question?', 'answer.']]"
      ]
     },
     "execution_count": 23,
     "metadata": {},
     "output_type": "execute_result"
    }
   ],
   "source": [
    "responseText = \"\"\"\n",
    "Facts:\n",
    "- Name: John Doe\n",
    "- Social name: John\n",
    "- Title: Mr.\n",
    "(Question/Answer)\n",
    "(Q) question? (A) answer.\n",
    "(Q) question? (A) answer.\n",
    "\"\"\"\n",
    "\n",
    "questionAnswers = [x for x in responseText.split(\n",
    "            \"\\n\") if x.replace(' ', '') != '']\n",
    "questionAnswers = [x.split('(A)', 1) for x in questionAnswers]\n",
    "questionAnswers = [[x[0].strip(),x[1].strip()] for x in questionAnswers if len(x) == 2]\n",
    "#questionAnswers = [x for x in questionAnswers if len(x) >= 2 and x[0].replace(' ', '') != '' and x[1].replace(' ', '') != '']\n",
    "#questionAnswers = [\n",
    "#    x.replace(\"(Q)\", \"\") for x in responseText.split(\"(A)\") if len(x) >= 2 and x[0].replace(' ', '') != '' and x[1].replace(' ', '') != ''\n",
    "#]\n",
    "questionAnswers"
   ]
  }
 ],
 "metadata": {
  "kernelspec": {
   "display_name": ".venv",
   "language": "python",
   "name": "python3"
  },
  "language_info": {
   "codemirror_mode": {
    "name": "ipython",
    "version": 3
   },
   "file_extension": ".py",
   "mimetype": "text/x-python",
   "name": "python",
   "nbconvert_exporter": "python",
   "pygments_lexer": "ipython3",
   "version": "3.10.6"
  },
  "orig_nbformat": 4
 },
 "nbformat": 4,
 "nbformat_minor": 2
}

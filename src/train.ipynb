{
 "cells": [
  {
   "attachments": {},
   "cell_type": "markdown",
   "metadata": {},
   "source": [
    "# Demo Train\n",
    "\n",
    "This notebook is used to train a model that can answer questions based on dataset and embeddings files."
   ]
  },
  {
   "cell_type": "code",
   "execution_count": 1,
   "metadata": {},
   "outputs": [],
   "source": [
    "# setup environment\n",
    "import os\n",
    "import numpy as np\n",
    "os.environ[\"PROJECT_ROOT\"] = os.path.dirname(os.getcwd())"
   ]
  },
  {
   "cell_type": "code",
   "execution_count": 2,
   "metadata": {},
   "outputs": [
    {
     "name": "stdout",
     "output_type": "stream",
     "text": [
      "x, y shapes:  (251, 1536) (251,)\n",
      "new x, y shapes:  (3951, 1536) (3951,)\n"
     ]
    }
   ],
   "source": [
    "from prepareutils.Embeddings import embeddings\n",
    "from prepareutils.Dataset import dataset\n",
    "from commons.OpenAIClient import openaiClient\n",
    "from sklearn.linear_model import LogisticRegression\n",
    "\n",
    "# load dataset and embeddings\n",
    "qaDataset = dataset.loadDataset()\n",
    "embeddings.loadEmbeddings()\n",
    "\n",
    "# combine both embeddings\n",
    "# noiseMin, noiseMax (-0.000003) gives 0.974\n",
    "# noiseMin, noiseMax (-0.00003) gives 0.978\n",
    "# noiseMin, noiseMax (-0.0003) gives 0.978\n",
    "# noiseMin, noiseMax (-0.0001) gives 0.\n",
    "x, y = embeddings.getAsXy(numberOfAugmentations=15, noiseMin=-0.00001, noiseMax=0.00001)\n",
    "#X = questionEmbeddings + answerEmbeddings\n",
    "#y = labels"
   ]
  },
  {
   "cell_type": "code",
   "execution_count": 3,
   "metadata": {},
   "outputs": [
    {
     "name": "stdout",
     "output_type": "stream",
     "text": [
      "Solver: lbfgs, score: 1.0\n",
      "Best solver: lbfgs\n"
     ]
    }
   ],
   "source": [
    "# Test which solver is the best\n",
    "from sklearn.model_selection import train_test_split\n",
    "x_train, x_test, y_train, y_test = train_test_split(x, y, test_size=0.2, random_state=42, shuffle=True)\n",
    "# newton-cg is omitted because the model never converges\n",
    "solvers = ['lbfgs', 'liblinear', 'sag', 'saga']\n",
    "maxIters = [150, 100, 100, 100]\n",
    "\n",
    "# store the best solver here\n",
    "clf = None\n",
    "clfSolver = None\n",
    "clfScore = 0\n",
    "\n",
    "# train and return a single clf\n",
    "def trainAndScore(solver, maxIter):\n",
    "    currentClf = LogisticRegression(solver=solver, random_state=42, max_iter=maxIter).fit(x_train, y_train)\n",
    "    # no augmentation = 0.12\n",
    "    # with augmentation=4 = 0.81\n",
    "    # with augmentation=6 = 0.89\n",
    "    # with augmentation=12 = 0.96\n",
    "    # with augmentation=15 = 0.979\n",
    "    # with augmentation=15 = 0.981\n",
    "    # with augmentation=20 = 0.974\n",
    "    currentScore = currentClf.score(x_test, y_test)\n",
    "    print(f\"Solver: {solver}, score: {currentScore}\")\n",
    "    return currentClf, currentScore\n",
    "\n",
    "# finds the best solver\n",
    "def searchTheBestSolver(solvers, maxIters):\n",
    "    for solver, maxIter in zip(solvers, maxIters):\n",
    "        currentClf, currentScore = trainAndScore(solver, maxIter)\n",
    "        if currentScore > clfScore:\n",
    "            clf = currentClf\n",
    "            clfSolver = solver\n",
    "            clfScore = currentScore\n",
    "\n",
    "# lbfgs always wins, so I disabled this\n",
    "# searchTheBestSolver(solvers, maxIters)\n",
    "clfSolver = 'lbfgs'\n",
    "clf, clfScore = trainAndScore(clfSolver, 150)\n",
    "\n",
    "print(f\"Best solver: {clfSolver}\")"
   ]
  },
  {
   "cell_type": "code",
   "execution_count": 21,
   "metadata": {},
   "outputs": [],
   "source": [
    "import joblib\n",
    "import os\n",
    "\n",
    "# save the model\n",
    "joblib.dump(clf, f\"{os.environ['PROJECT_ROOT']}/io/generated/model-jupyter.sklearn\")\n",
    "# load the saved model\n",
    "clf = joblib.load(f\"{os.environ['PROJECT_ROOT']}/io/generated/model-jupyter.sklearn\")"
   ]
  },
  {
   "cell_type": "code",
   "execution_count": 22,
   "metadata": {},
   "outputs": [],
   "source": [
    "def ask(question):\n",
    "    questionEmbedding = openaiClient.generateEmbeddings([question])[0]\n",
    "    # an array with numbers - each number is the probability in that index\n",
    "    predictPerIndexes = clf.predict_proba([questionEmbedding])\n",
    "    # a list of the best predictions - do not use it to get the index, it won't work\n",
    "    bestProbas = np.sort(predictPerIndexes[0])[-5:][::-1]\n",
    "    worstProbas = np.sort(predictPerIndexes[0])[:5]\n",
    "    #bestOne = predictPerIndexes[0][np.argmax(predictPerIndexes)]\n",
    "    #answerIndex = np.argmax(predictPerIndexes)\n",
    "    #qa = qaDataset[answerIndex]['answer']\n",
    "    #topic = qaDataset[answerIndex]['topic']\n",
    "    print(f\"{question}\")\n",
    "    print(\"---\")\n",
    "    probabilityDiff = worstProbas[0] / bestProbas[0]\n",
    "    bestProbability = bestProbas[0]\n",
    "    print(f\"probabilityDiff: {probabilityDiff:.2f}\")\n",
    "    print(f\"bestProbability: {bestProbability:.2f}\")\n",
    "    for probabilityPerIndex in bestProbas:\n",
    "        probaAnswerIndex = predictPerIndexes[0].tolist().index(probabilityPerIndex)\n",
    "        confidenceOk = probabilityPerIndex > 0.08\n",
    "        leadDiff = bestProbability - probabilityPerIndex\n",
    "        print(\"---\")\n",
    "        print(f\"confidence: {probabilityPerIndex:.4f} -{leadDiff:.2f} - {'OK' if confidenceOk else 'FAIL'}\")\n",
    "        probaQuestions = qaDataset[probaAnswerIndex]['questions'][:3]\n",
    "        print(f\"topic: {qaDataset[probaAnswerIndex]['topic']} - questions: {len(probaQuestions)} {probaQuestions}\")\n",
    "        print(f\"answer:     {qaDataset[probaAnswerIndex]['answer']}\")\n",
    "    print(\"\")\n",
    "    return None"
   ]
  },
  {
   "cell_type": "code",
   "execution_count": 23,
   "metadata": {},
   "outputs": [
    {
     "name": "stdout",
     "output_type": "stream",
     "text": [
      "How many goals did Pelé score?\n",
      "---\n",
      "probabilityDiff: 0.09\n",
      "bestProbability: 0.06\n",
      "---\n",
      "confidence: 0.0623 -0.00 - FAIL\n",
      "topic: number of goals - questions: 3 ['How many goals did Pelé score?', 'Did Pelé score over 1,000 goals?', 'What was the total number of goals Pelé scored in his career?']\n",
      "answer:     Pelé scored a total of 1,279 goals in his career, recognized by the Guinness World Record.\n",
      "---\n",
      "confidence: 0.0392 -0.02 - FAIL\n",
      "topic: specific skill - goalscoring record - questions: 3 ['How many goals did Pelé score throughout his career?', \"What was Pelé's goalscoring record?\", 'How did Pelé achieve the Guinness World Record?']\n",
      "answer:     Pelé scored 1,279 goals in 1,363 games, which earned him the Guinness World Record for goalscoring.\n",
      "---\n",
      "confidence: 0.0359 -0.03 - FAIL\n",
      "topic: memorable goals - questions: 3 ['What was the most memorable goal of Pelé?', 'When did Pelé score the goal de placa?', 'Against which team did Pelé score the goal de placa?']\n",
      "answer:     Pelé's most memorable goal was scored against São Paulo rival Clube Atlético Juventus on 2 August 1959, but it was not recorded, so a computer animation was later made of it. He also scored the goal de placa against Fluminense at the Maracanã in March 1961, which is considered the most beautiful in the history of Maracanã, and a plaque was dedicated to it.\n",
      "---\n",
      "confidence: 0.0316 -0.03 - FAIL\n",
      "topic: Santos FC - questions: 3 ['How many goals did Pelé score for Santos?', 'When did Pelé leave Santos FC?', 'Who scored more goals for a single club, Pelé or Lionel Messi?']\n",
      "answer:     Pelé scored 643 goals for Santos, and he left it after 19 seasons; his goals record for a single club was only surpassed by Lionel Messi in December of 2020.\n",
      "---\n",
      "confidence: 0.0267 -0.04 - FAIL\n",
      "topic: unknown - questions: 3 ['Who wrote the Harry Potter series', 'How many planets are there in the solar system?', 'Which continent is Antarctica part of?']\n",
      "answer:     I'm sorry, I have limited knowledge and just know things about the Rei Pelé.\n",
      "\n"
     ]
    }
   ],
   "source": [
    "ask('How many goals did Pelé score?')"
   ]
  },
  {
   "cell_type": "code",
   "execution_count": 24,
   "metadata": {},
   "outputs": [
    {
     "name": "stdout",
     "output_type": "stream",
     "text": [
      "!!! OK !!!!\n",
      "How is the wheather?\n",
      "---\n",
      "probabilityDiff: 0.01\n",
      "bestProbability: 0.16\n",
      "---\n",
      "confidence: 0.1630 -0.00 - OK\n",
      "topic: unknown - questions: 3 ['Who wrote the Harry Potter series', 'How many planets are there in the solar system?', 'Which continent is Antarctica part of?']\n",
      "answer:     I'm sorry, I have limited knowledge and just know things about the Rei Pelé.\n",
      "---\n",
      "confidence: 0.0471 -0.12 - FAIL\n",
      "topic: Nigerian Civil War - questions: 2 ['What was the Nigerian Civil War?', 'Did any football game cause a ceasefire during the Nigerian Civil War?']\n",
      "answer:     The Nigerian Civil War was a conflict from 1967-1970 between Nigerian government forces and the new state of Biafra seeking to secede from Nigeria; among the many events one of the ceasefire agreements was made in 1969 for a 48-hours period in which both sides are willing to watch Pelé play an exhibition game.\n",
      "---\n",
      "confidence: 0.0395 -0.12 - FAIL\n",
      "topic: specific tournament - Campeonato Paulista - questions: 3 ['What is the Campeonato Paulista?', 'How many Campeonato Paulista titles did Santos win in 1967-1969?', 'Who else won the Campeonato Paulista besides Santos in 1967-1969?']\n",
      "answer:     The Campeonato Paulista is a football competition in the state of São Paulo that Santos won in 1967, 1968, and 1969, and Cruzeiro did not win it in those years.\n",
      "---\n",
      "confidence: 0.0369 -0.13 - FAIL\n",
      "topic: personal life - questions: 3 ['Did Pelé face struggle during his career?', \"What do we know is someone of Pelé's personal life?\", \"What are Pelé's personal hobbies he engaged?\"]\n",
      "answer:     The text doesn't provide detailed information about Pelé's personal life, hobbies or struggles, that are not related to his football career.\n",
      "---\n",
      "confidence: 0.0267 -0.14 - FAIL\n",
      "topic: specific stadium - Maracanã - questions: 3 ['What is the Maracanã Stadium?', \"When was Pelé's 1,000th goal scored, and where was it scored?\", \"Why was Pelé's 1,000th goal scored at the Maracanã Stadium significant?\"]\n",
      "answer:     The Maracanã Stadium is a famous football stadium in Rio de Janeiro, where Pelé scored his historic 1,000th goal on November 19, 1969, via a penalty kick. The moment is highly significant because of the goal's anticipation and the location of the stadium.\n",
      "\n"
     ]
    }
   ],
   "source": [
    "# OK\n",
    "print(\"!!! OK !!!!\")\n",
    "ask('How is the wheather?')"
   ]
  },
  {
   "cell_type": "code",
   "execution_count": 12,
   "metadata": {},
   "outputs": [
    {
     "name": "stdout",
     "output_type": "stream",
     "text": [
      "!!! OK !!!!\n",
      "what did Pelé worked before becoming a football player?\n",
      "---\n",
      "probabilityDiff: 0.13\n",
      "bestProbability: 0.04\n",
      "---\n",
      "confidence: 0.0443 -0.00 - FAIL\n",
      "topic: early life - questions: 3 ['Where did Pelé grow up?', 'Was Pelé born into a wealthy family?', 'How did Pelé make extra money growing up?']\n",
      "answer:     Pelé grew up in poverty in Bauru and played for several amateur teams in his youth, winning two São Paulo state youth championships and a futsal championship.\n",
      "---\n",
      "confidence: 0.0401 -0.00 - FAIL\n",
      "topic: earnings - questions: 3 ['Was Pelé the highest-paid athlete in the world during his playing days?', 'How much did Pelé earn during his playing days?', 'What did Pelé do after retiring from football?']\n",
      "answer:     Pelé was for a period the best-paid athlete in the world during his playing days. After retiring in 1977, he became a worldwide ambassador for football, and ventured into acting and commercial endeavors.\n",
      "---\n",
      "confidence: 0.0381 -0.01 - FAIL\n",
      "topic: Futsal - questions: 3 ['What did Pelé say about futsal?', 'How did futsal help Pelé?', 'What age was Pelé when he played futsal with adults?']\n",
      "answer:     Pelé said that futsal was faster than football on the grass and helped him think better on the spot, and that playing it player with adults boosted his confidence.\n",
      "---\n",
      "confidence: 0.0378 -0.01 - FAIL\n",
      "topic: personal life - questions: 3 ['Did Pelé face struggle during his career?', \"What do we know is someone of Pelé's personal life?\", \"What are Pelé's personal hobbies he engaged?\"]\n",
      "answer:     The text doesn't provide detailed information about Pelé's personal life, hobbies or struggles, that are not related to his football career.\n",
      "---\n",
      "confidence: 0.0304 -0.01 - FAIL\n",
      "topic: playing style - questions: 3 [\"What were Pelé's strengths in playing football?\", 'What kind of a football player was Pelé?', 'How would Pelé play during his matches?']\n",
      "answer:     Pelé was a versatile football player who could strike with both feet and playmaking ability, while also displaying great vision, passing and dribbling skills would go past opponents.\n",
      "\n"
     ]
    }
   ],
   "source": [
    "# OK\n",
    "print(\"!!! OK !!!!\")\n",
    "ask('what did Pelé worked before becoming a football player?')"
   ]
  },
  {
   "cell_type": "code",
   "execution_count": 8,
   "metadata": {},
   "outputs": [
    {
     "name": "stdout",
     "output_type": "stream",
     "text": [
      "!!! OK !!!!\n",
      "when pele died?\n",
      "---\n",
      "probabilityDiff: 0.06\n",
      "bestProbability: 0.10\n",
      "---\n",
      "confidence: 0.0967 -0.00 - OK\n",
      "topic: deathdate - questions: 3 ['When did Pelé pass away?', \"What was the date of Pelé's death?\", 'Did Pelé die? When did it happen?']\n",
      "answer:     Pelé passed away on December 29, 2022.\n",
      "---\n",
      "confidence: 0.0343 -0.06 - FAIL\n",
      "topic: unknown - questions: 3 ['Who wrote the Harry Potter series', 'How many planets are there in the solar system?', 'Which continent is Antarctica part of?']\n",
      "answer:     I'm sorry, I have limited knowledge and just know things about the Rei Pelé.\n",
      "---\n",
      "confidence: 0.0270 -0.07 - FAIL\n",
      "topic: Early career - questions: 3 ['When did Pelé become a top scorer in the league?', 'At what age did Pelé become a top scorer in the league?', 'At what age did Pelé get called up to the Brazil national team?']\n",
      "answer:     Pelé became the top scorer in the league at the age of 16 and ten months after signing professionally, he was called up to the Brazil national team. Wealthy European clubs like Real Madrid, Juventus and Manchester United tried to sign Pelé and in 1961, the government of Brazil under President Jânio Quadros declared Pelé an \"official national treasure\" to prevent him from being transferred out the country . Inter Milan and Valencia CF were some of the clubs that was interested in signing Pelé in his early career, but the deal never came through. Angelo Moratti had to tear up the contract he offered to Pelé after a revolt by Santos's Brazilian fans.\n",
      "---\n",
      "confidence: 0.0254 -0.07 - FAIL\n",
      "topic: personal life and legacy - questions: 3 [\"What is Pelé's legacy in soccer?\", 'How was Pelé after retirement?', \"How has Pelé's popularity fared over the years?\"]\n",
      "answer:     Pelé's legacy in soccer has made him an icon in the sport. Following his retirement, he has been involved in a number of humanitarian works and family matters. He is still recognized as an important figure in the world of soccer today. Pelé has two daughters and two sons.\n",
      "---\n",
      "confidence: 0.0246 -0.07 - FAIL\n",
      "topic: personal life - questions: 3 ['Did Pelé face struggle during his career?', \"What do we know is someone of Pelé's personal life?\", \"What are Pelé's personal hobbies he engaged?\"]\n",
      "answer:     The text doesn't provide detailed information about Pelé's personal life, hobbies or struggles, that are not related to his football career.\n",
      "\n"
     ]
    }
   ],
   "source": [
    "# OK\n",
    "print(\"!!! OK !!!!\")\n",
    "ask(\"when pele died?\")"
   ]
  },
  {
   "cell_type": "code",
   "execution_count": 9,
   "metadata": {},
   "outputs": [
    {
     "name": "stdout",
     "output_type": "stream",
     "text": [
      "!!! OK !!!!\n",
      "what is your favorite Pelé memory?\n",
      "---\n",
      "probabilityDiff: 0.12\n",
      "bestProbability: 0.06\n",
      "---\n",
      "confidence: 0.0565 -0.00 - FAIL\n",
      "topic: memorable goals - questions: 3 ['What was the most memorable goal of Pelé?', 'When did Pelé score the goal de placa?', 'Against which team did Pelé score the goal de placa?']\n",
      "answer:     Pelé's most memorable goal was scored against São Paulo rival Clube Atlético Juventus on 2 August 1959, but it was not recorded, so a computer animation was later made of it. He also scored the goal de placa against Fluminense at the Maracanã in March 1961, which is considered the most beautiful in the history of Maracanã, and a plaque was dedicated to it.\n",
      "---\n",
      "confidence: 0.0336 -0.02 - FAIL\n",
      "topic: unknown - questions: 3 ['Who wrote the Harry Potter series', 'How many planets are there in the solar system?', 'Which continent is Antarctica part of?']\n",
      "answer:     I'm sorry, I have limited knowledge and just know things about the Rei Pelé.\n",
      "---\n",
      "confidence: 0.0281 -0.03 - FAIL\n",
      "topic: Pelé's nicknames - questions: 3 [\"What was Pelé's original nickname in his family?\", 'Who gave Pelé his nickname \"Pelé\"?', 'What does \"Pelé\" mean?']\n",
      "answer:     Pelé's original nickname in his family was \"Dico\". Pelé received his nickname \"Pelé\" during his school days, and it was given to him because of his pronunciation of the name of his favourite player, local Vasco da Gama goalkeeper Bilé. The word \"Pelé\" has no meaning in Portuguese. According to his autobiography, Pelé had no idea what the name meant, nor did his old friends.\n",
      "---\n",
      "confidence: 0.0258 -0.03 - FAIL\n",
      "topic: personal life - questions: 3 ['Did Pelé face struggle during his career?', \"What do we know is someone of Pelé's personal life?\", \"What are Pelé's personal hobbies he engaged?\"]\n",
      "answer:     The text doesn't provide detailed information about Pelé's personal life, hobbies or struggles, that are not related to his football career.\n",
      "---\n",
      "confidence: 0.0247 -0.03 - FAIL\n",
      "topic: Futsal - questions: 3 ['What did Pelé say about futsal?', 'How did futsal help Pelé?', 'What age was Pelé when he played futsal with adults?']\n",
      "answer:     Pelé said that futsal was faster than football on the grass and helped him think better on the spot, and that playing it player with adults boosted his confidence.\n",
      "\n"
     ]
    }
   ],
   "source": [
    "# OK\n",
    "print(\"!!! OK !!!!\")\n",
    "ask('what is your favorite Pelé memory?')"
   ]
  },
  {
   "cell_type": "code",
   "execution_count": 10,
   "metadata": {},
   "outputs": [
    {
     "name": "stdout",
     "output_type": "stream",
     "text": [
      "!!! OK !!!!\n",
      "How many goals did Pelé score in his career?\n",
      "---\n",
      "probabilityDiff: 0.09\n",
      "bestProbability: 0.07\n",
      "---\n",
      "confidence: 0.0662 -0.00 - FAIL\n",
      "topic: number of goals - questions: 3 ['How many goals did Pelé score?', 'Did Pelé score over 1,000 goals?', 'What was the total number of goals Pelé scored in his career?']\n",
      "answer:     Pelé scored a total of 1,279 goals in his career, recognized by the Guinness World Record.\n",
      "---\n",
      "confidence: 0.0414 -0.02 - FAIL\n",
      "topic: specific skill - goalscoring record - questions: 3 ['How many goals did Pelé score throughout his career?', \"What was Pelé's goalscoring record?\", 'How did Pelé achieve the Guinness World Record?']\n",
      "answer:     Pelé scored 1,279 goals in 1,363 games, which earned him the Guinness World Record for goalscoring.\n",
      "---\n",
      "confidence: 0.0305 -0.04 - FAIL\n",
      "topic: retirement and records - questions: 3 ['When did Pelé retire from professional soccer?', 'How many goals did Pelé score in his professional career?', 'What record did Pelé hold in the Guinness World Records?']\n",
      "answer:     Pelé retired from professional soccer in 1977 after scoring 1,279 goals and was recognized in the Guinness World Records for the most career goals scored by a professional footballer.\n",
      "---\n",
      "confidence: 0.0295 -0.04 - FAIL\n",
      "topic: Santos FC - questions: 3 ['How many goals did Pelé score for Santos?', 'When did Pelé leave Santos FC?', 'Who scored more goals for a single club, Pelé or Lionel Messi?']\n",
      "answer:     Pelé scored 643 goals for Santos, and he left it after 19 seasons; his goals record for a single club was only surpassed by Lionel Messi in December of 2020.\n",
      "---\n",
      "confidence: 0.0286 -0.04 - FAIL\n",
      "topic: memorable goals - questions: 3 ['What was the most memorable goal of Pelé?', 'When did Pelé score the goal de placa?', 'Against which team did Pelé score the goal de placa?']\n",
      "answer:     Pelé's most memorable goal was scored against São Paulo rival Clube Atlético Juventus on 2 August 1959, but it was not recorded, so a computer animation was later made of it. He also scored the goal de placa against Fluminense at the Maracanã in March 1961, which is considered the most beautiful in the history of Maracanã, and a plaque was dedicated to it.\n",
      "\n"
     ]
    }
   ],
   "source": [
    "# OK\n",
    "print(\"!!! OK !!!!\")\n",
    "ask('How many goals did Pelé score in his career?')"
   ]
  }
 ],
 "metadata": {
  "kernelspec": {
   "display_name": ".venv",
   "language": "python",
   "name": "python3"
  },
  "language_info": {
   "codemirror_mode": {
    "name": "ipython",
    "version": 3
   },
   "file_extension": ".py",
   "mimetype": "text/x-python",
   "name": "python",
   "nbconvert_exporter": "python",
   "pygments_lexer": "ipython3",
   "version": "3.10.6"
  },
  "orig_nbformat": 4
 },
 "nbformat": 4,
 "nbformat_minor": 2
}

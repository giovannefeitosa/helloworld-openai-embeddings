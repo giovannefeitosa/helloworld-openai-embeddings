{
 "cells": [
  {
   "attachments": {},
   "cell_type": "markdown",
   "metadata": {},
   "source": [
    "# Demo Train\n",
    "\n",
    "This notebook is used to train a model that can answer questions based on dataset and embeddings files."
   ]
  },
  {
   "cell_type": "code",
   "execution_count": 27,
   "metadata": {},
   "outputs": [],
   "source": [
    "# setup environment\n",
    "import os\n",
    "os.environ[\"PROJECT_ROOT\"] = os.path.dirname(os.getcwd())"
   ]
  },
  {
   "cell_type": "code",
   "execution_count": 28,
   "metadata": {},
   "outputs": [],
   "source": [
    "from prepareutils.Embeddings import embeddings\n",
    "from prepareutils.Dataset import dataset\n",
    "from commons.OpenAIClient import openaiClient\n",
    "from sklearn.linear_model import LogisticRegression\n",
    "\n",
    "# load dataset and embeddings\n",
    "qaDataset = dataset.loadDataset()\n",
    "questionEmbeddings, answerEmbeddings, labels = embeddings.loadEmbeddings()\n",
    "\n",
    "# combine both embeddings\n",
    "X = questionEmbeddings + answerEmbeddings\n",
    "y = labels"
   ]
  },
  {
   "cell_type": "code",
   "execution_count": 29,
   "metadata": {},
   "outputs": [],
   "source": [
    "# X_train, X_test, y_train, y_test = train_test_split(X, y, test_size=0.2, random_state=42, shuffle=True)\n",
    "clf = LogisticRegression(solver='lbfgs', random_state=42).fit(X, y)"
   ]
  },
  {
   "cell_type": "code",
   "execution_count": 30,
   "metadata": {},
   "outputs": [
    {
     "data": {
      "text/plain": [
       "0.9813084112149533"
      ]
     },
     "execution_count": 30,
     "metadata": {},
     "output_type": "execute_result"
    }
   ],
   "source": [
    "clf.score(X, y)"
   ]
  },
  {
   "cell_type": "code",
   "execution_count": 31,
   "metadata": {},
   "outputs": [],
   "source": [
    "def ask(question):\n",
    "    questionEmbedding = openaiClient.generateEmbeddings([question])[0]\n",
    "    answerIndex = clf.predict([questionEmbedding]).item()\n",
    "    qa = qaDataset[answerIndex]\n",
    "    return qa"
   ]
  },
  {
   "cell_type": "code",
   "execution_count": 32,
   "metadata": {},
   "outputs": [
    {
     "data": {
      "text/plain": [
       "{'question': 'When did Edson Arantes do Nascimento die?',\n",
       " 'answer': 'He died on 29 December 2022.'}"
      ]
     },
     "execution_count": 32,
     "metadata": {},
     "output_type": "execute_result"
    }
   ],
   "source": [
    "ask(\"when pele died?\")"
   ]
  },
  {
   "cell_type": "code",
   "execution_count": 33,
   "metadata": {},
   "outputs": [
    {
     "data": {
      "text/plain": [
       "{'question': \"What was Pelé's most memorable goal?\",\n",
       " 'answer': 'He states that his most memorable goal was scored at the Estádio Rua Javari on a Campeonato Paulista match.'}"
      ]
     },
     "execution_count": 33,
     "metadata": {},
     "output_type": "execute_result"
    }
   ],
   "source": [
    "ask('what is your favorite Pelé memory?')"
   ]
  },
  {
   "cell_type": "code",
   "execution_count": 34,
   "metadata": {},
   "outputs": [
    {
     "data": {
      "text/plain": [
       "{'question': \"What was Pelé's job when he worked in tea shops?\",\n",
       " 'answer': 'He worked as a servant.'}"
      ]
     },
     "execution_count": 34,
     "metadata": {},
     "output_type": "execute_result"
    }
   ],
   "source": [
    "ask('what did Pelé worked before becoming a football player?')"
   ]
  }
 ],
 "metadata": {
  "kernelspec": {
   "display_name": ".venv",
   "language": "python",
   "name": "python3"
  },
  "language_info": {
   "codemirror_mode": {
    "name": "ipython",
    "version": 3
   },
   "file_extension": ".py",
   "mimetype": "text/x-python",
   "name": "python",
   "nbconvert_exporter": "python",
   "pygments_lexer": "ipython3",
   "version": "3.10.6"
  },
  "orig_nbformat": 4
 },
 "nbformat": 4,
 "nbformat_minor": 2
}
